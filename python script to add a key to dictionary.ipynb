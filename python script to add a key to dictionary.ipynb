{
 "cells": [
  {
   "cell_type": "code",
   "execution_count": 3,
   "metadata": {},
   "outputs": [
    {
     "ename": "SyntaxError",
     "evalue": "unexpected character after line continuation character (<ipython-input-3-8c66d65bb4b7>, line 1)",
     "output_type": "error",
     "traceback": [
      "\u001b[0;36m  File \u001b[0;32m\"<ipython-input-3-8c66d65bb4b7>\"\u001b[0;36m, line \u001b[0;32m1\u001b[0m\n\u001b[0;31m    print(\\\"Select operation.\\\")\\n,\u001b[0m\n\u001b[0m                                   ^\u001b[0m\n\u001b[0;31mSyntaxError\u001b[0m\u001b[0;31m:\u001b[0m unexpected character after line continuation character\n"
     ]
    }
   ],
   "source": [
    "print(\\\"Select operation.\\\")\\n,\n",
    "print(\\\"1.Add\\\")\\n,\n",
    "print(\\\"2.Subtract\\)\\n,\n",
    "print(\\\"3.Multiply\\\")\\n,\n",
    "print(\\\"4.Divide\\\")\\n\",\n",
    "choice = input(\\\"Enter choice(1/2/3/4): \\\")\\n\",\n",
    "num1 = int(input(\\\"Enter first number: \\\"))\\n\",\n",
    "num2 = int(input(\\\"Enter second number: \\\"))\\n,\n",
    "    def add(x, y):\\n,\n",
    "    return x + y\\n\",\n",
    "    def subtract(x, y):\\n,\n",
    "        return x - y\\n,\n",
    "    def multiply(x, y):\\n,\n",
    "    return x * y\\n,\n",
    "    def divide(x, y):\\n,\n",
    "        return x / y\\n,\n",
    "    if choice == '1':\\n,\n",
    "    print(num1,\\\"+\\\",num2,\\\"=\\\", add(num1,num2))\\n,\n",
    "    elif choice == '2':\\n\",\n",
    "   print(num1,\\\"-\\\",num2,\\\"=\\\", subtract(num1,num2))\\n\",\n",
    "    elif choice == '3':\\n\",\n",
    "   print(num1,\\\"*\\\",num2,\\\"=\\\", multiply(num1,num2))\\n\",\n",
    "    elif choice == '4':\\n\",\n",
    "       print(num1,\\\"/\\\",num2,\\\"=\\\", divide(num1,num2))\\n\",\n",
    "    else:\\n\",\n",
    "  print(\\\"Invalid input\\\")\n",
    "   \n",
    "  "
   ]
  },
  {
   "cell_type": "code",
   "execution_count": 11,
   "metadata": {},
   "outputs": [
    {
     "name": "stdout",
     "output_type": "stream",
     "text": [
      "{0: 30, 1: 45}\n",
      "{0: 30, 1: 45, 2: 30}\n"
     ]
    }
   ],
   "source": [
    "  a = {0:30, 1:45}\n",
    "print(a)\n",
    "a.update({2:30})\n",
    "print(a)"
   ]
  },
  {
   "cell_type": "code",
   "execution_count": null,
   "metadata": {},
   "outputs": [],
   "source": []
  }
 ],
 "metadata": {
  "kernelspec": {
   "display_name": "Python 3",
   "language": "python",
   "name": "python3"
  },
  "language_info": {
   "codemirror_mode": {
    "name": "ipython",
    "version": 3
   },
   "file_extension": ".py",
   "mimetype": "text/x-python",
   "name": "python",
   "nbconvert_exporter": "python",
   "pygments_lexer": "ipython3",
   "version": "3.6.7"
  }
 },
 "nbformat": 4,
 "nbformat_minor": 2
}
