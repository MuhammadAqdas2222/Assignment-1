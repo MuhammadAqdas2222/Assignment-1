{
 "cells": [
  {
   "cell_type": "code",
   "execution_count": 26,
   "metadata": {},
   "outputs": [
    {
     "name": "stdout",
     "output_type": "stream",
     "text": [
      "Enter Operation \n",
      "          1. Addition \n",
      "          2.Subtraction\n",
      "          3.Multiplication \n",
      "          4.Division\n",
      "          5.Power \n",
      "1\n",
      "Enter First Number :89\n",
      "Enter Second number :90\n",
      "Result = 179\n"
     ]
    }
   ],
   "source": [
    "op = int(input(\"Enter Operation \\n \\\n",
    "         1. Addition \\n \\\n",
    "         2.Subtraction\\n \\\n",
    "         3.Multiplication \\n \\\n",
    "         4.Division\\n \\\n",
    "         5.Power \\n\"))\n",
    "num1 = int(input(\"Enter First Number :\"))\n",
    "num2 = int(input(\"Enter Second number :\"))\n",
    "res = 0\n",
    "if op == 1:\n",
    "    res = num1+num2\n",
    "elif op == 2:\n",
    "    res = num1-num2\n",
    "elif op == 3:\n",
    "    res = num1*num2\n",
    "elif op == 4:\n",
    "    res = num1/num2\n",
    "elif op == 5:\n",
    "    res = pow(num1,num2)\n",
    "else:\n",
    "      print(\"Invalid Operation\")\n",
    "print(f\"Result = {res}\")"
   ]
  },
  {
   "cell_type": "code",
   "execution_count": null,
   "metadata": {},
   "outputs": [],
   "source": []
  }
 ],
 "metadata": {
  "kernelspec": {
   "display_name": "Python 3",
   "language": "python",
   "name": "python3"
  },
  "language_info": {
   "codemirror_mode": {
    "name": "ipython",
    "version": 3
   },
   "file_extension": ".py",
   "mimetype": "text/x-python",
   "name": "python",
   "nbconvert_exporter": "python",
   "pygments_lexer": "ipython3",
   "version": "3.6.7"
  }
 },
 "nbformat": 4,
 "nbformat_minor": 2
}
