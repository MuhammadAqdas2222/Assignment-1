{
 "cells": [
  {
   "cell_type": "code",
   "execution_count": 10,
   "metadata": {},
   "outputs": [
    {
     "name": "stdout",
     "output_type": "stream",
     "text": [
      "Enter a key:4\n",
      "key not exist\n"
     ]
    }
   ],
   "source": [
    "#Write a python program script to check if a given key already exist in a dictionary. \n",
    "myDict = {\n",
    "    1: \"PYTHON\",\n",
    "    2: \"C++\",\n",
    "    3: \"JAVA\",\n",
    "}\n",
    "k = int(input(\"Enter a key:\"))\n",
    "if k in myDict.keys():\n",
    "    print(\"Given key already exist\")\n",
    "else:\n",
    "    print(\"key not exist\")"
   ]
  }
 ],
 "metadata": {
  "kernelspec": {
   "display_name": "Python 3",
   "language": "python",
   "name": "python3"
  },
  "language_info": {
   "codemirror_mode": {
    "name": "ipython",
    "version": 3
   },
   "file_extension": ".py",
   "mimetype": "text/x-python",
   "name": "python",
   "nbconvert_exporter": "python",
   "pygments_lexer": "ipython3",
   "version": "3.6.7"
  }
 },
 "nbformat": 4,
 "nbformat_minor": 2
}
