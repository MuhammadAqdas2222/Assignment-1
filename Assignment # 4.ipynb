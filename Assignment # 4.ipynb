{
 "cells": [
  {
   "cell_type": "code",
   "execution_count": 35,
   "metadata": {},
   "outputs": [
    {
     "name": "stdout",
     "output_type": "stream",
     "text": [
      "Enter first name:Muhammad \n",
      "Enter last name:Aqdas\n",
      "Enter age:18\n",
      "Enter city:Karachi\n",
      "{'first_name': 'Muhammad ', 'last_name': 'Aqdas', 'age': '18', 'city': 'Karachi'}\n",
      "Enter qualification:BS software engineering\n",
      "BS software engineering\n"
     ]
    }
   ],
   "source": [
    "#  Q:1 Use a dictionary to store information about a person you know .Store their first name Last name ,age,and the city in which they live.\n",
    "person_info = {}\n",
    "person_info [\"first_name\"]=input (\"Enter first name:\")\n",
    "person_info[\"last_name\"]=input (\"Enter last name:\")\n",
    "person_info[\"age\"]=input(\"Enter age:\")\n",
    "person_info[\"city\"]=input(\"Enter city:\")\n",
    "print(person_info)\n",
    "person_info[\"qualification\"]=input(\"Enter qualification:\")\n",
    "print(person_info[\"qualification\"])\n",
    "del person_info[\"qualification\"]"
   ]
  },
  {
   "cell_type": "code",
   "execution_count": 11,
   "metadata": {},
   "outputs": [
    {
     "name": "stdout",
     "output_type": "stream",
     "text": [
      "City: Beijing\n",
      "Information {'country': 'China', 'population': '21.54 million', 'fact': 'capital of China'}\n",
      "City: Karachi\n",
      "Information {'country': 'Pakistan', 'population': '14.91 million', 'fact': 'most famous city of Pakistan'}\n",
      "City: NewDelhi\n",
      "Information {'country': 'India', 'population': '21.75 million', 'fact': 'capital city of India'}\n"
     ]
    }
   ],
   "source": [
    "# Q :2 Make a dictionary called cities .Use the names of three cities as key in your dictionary. Create a dictionary of information about each cities.\n",
    "cities = {\"Beijing\":{}, \"Karachi\":{}, \"NewDelhi\":{}}\n",
    "information_Beijing ={\"country\": \"China\",\"population\":\"21.54 million\",\"fact\": \"capital of China\"}\n",
    "information_Karachi={\"country\": \"Pakistan\",\"population\": \"14.91 million\", \"fact\": \"most famous city of Pakistan\"}\n",
    "information_NewDelhi={\"country\": \"India\",\"population\": \"21.75 million\", \"fact\": \"capital city of India\"}\n",
    "cities[\"Beijing\"]= information_Beijing\n",
    "cities[\"Karachi\"]= information_Karachi\n",
    "cities[\"NewDelhi\"]=information_NewDelhi\n",
    "for i,j in cities.items():\n",
    "    print(\"City:\",i)\n",
    "    print(\"Information\",j)"
   ]
  },
  {
   "cell_type": "code",
   "execution_count": 24,
   "metadata": {},
   "outputs": [
    {
     "name": "stdout",
     "output_type": "stream",
     "text": [
      "How many tickets you want to buy:5\n",
      "Enter age:1\n",
      "Ticket is free\n",
      "Enter age:3\n",
      "The ticket is Rs 50\n",
      "Enter age:2\n",
      "Ticket is free\n",
      "Enter age:15\n",
      "The ticket is Rs 100\n",
      "Enter age:18\n",
      "The ticket is Rs 100\n"
     ]
    }
   ],
   "source": [
    "# Question :3 a movie theatre charges different prices depending on a person's age ..... Write a loop in which you ask their age then tell them the cost of their movie ticket\n",
    "n = int(input(\"How many tickets you want to buy:\"))\n",
    "for i in range(n):\n",
    "    age= int(input(\"Enter age:\"))\n",
    "    if age < 3:\n",
    "        print(\"Ticket is free\")\n",
    "    elif age >= 3 and age <= 12:\n",
    "            print(\"The ticket is Rs 50\")\n",
    "    else:\n",
    "          print(\"The ticket is Rs 100\")"
   ]
  },
  {
   "cell_type": "code",
   "execution_count": 30,
   "metadata": {},
   "outputs": [
    {
     "name": "stdout",
     "output_type": "stream",
     "text": [
      "One of my favourite book is Introduction to Java\n"
     ]
    }
   ],
   "source": [
    "# Q:4 Write a function called Favourite_book () that accepts one parameter and ....\n",
    "def favourite_book(title):\n",
    "    print(\"One of my favourite book is \" + title)\n",
    "favourite_book(\"Introduction to Java\")"
   ]
  },
  {
   "cell_type": "code",
   "execution_count": 34,
   "metadata": {},
   "outputs": [
    {
     "name": "stdout",
     "output_type": "stream",
     "text": [
      "Enter a number:24\n",
      "Your answer is greater than number\n",
      "Enter a number:13\n",
      "Your answer is greater than number\n",
      "Enter a number:3\n",
      "Your answer is less than number\n"
     ]
    }
   ],
   "source": [
    "# Q:5 Guess the number game write a program ehich randomly generate a number betweem (1,30)and ask the user in input field to guess the number.\n",
    "import random\n",
    "num = random.randint(1,30)\n",
    "for i in range (3):\n",
    "    a= int(input(\"Enter a number:\"))\n",
    "    if a == num:\n",
    "        print(\"Your answer is correct\")\n",
    "        break\n",
    "    elif a < num:\n",
    "        print(\"Your answer is less than number\")\n",
    "    elif a > num:\n",
    "        print(\"Your answer is greater than number\")"
   ]
  },
  {
   "cell_type": "code",
   "execution_count": null,
   "metadata": {},
   "outputs": [],
   "source": []
  }
 ],
 "metadata": {
  "kernelspec": {
   "display_name": "Python 3",
   "language": "python",
   "name": "python3"
  },
  "language_info": {
   "codemirror_mode": {
    "name": "ipython",
    "version": 3
   },
   "file_extension": ".py",
   "mimetype": "text/x-python",
   "name": "python",
   "nbconvert_exporter": "python",
   "pygments_lexer": "ipython3",
   "version": "3.6.7"
  }
 },
 "nbformat": 4,
 "nbformat_minor": 2
}
