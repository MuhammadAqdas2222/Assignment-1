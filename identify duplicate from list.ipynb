{
 "cells": [
  {
   "cell_type": "code",
   "execution_count": 5,
   "metadata": {},
   "outputs": [
    {
     "name": "stdout",
     "output_type": "stream",
     "text": [
      "[1]\n",
      "[1, 3]\n"
     ]
    }
   ],
   "source": [
    "# write apython program to identify duplicate values from list\n",
    "list1 = [1,3,2,1,1,3,5,6,7,8,1]\n",
    "duplicate = []\n",
    "for i in range(len(list1)):\n",
    "    for j in range(i+1, len(list1)):\n",
    "        if list1[i] == list1[j] and list1[i] not in duplicate:\n",
    "            duplicate.append(list1[i])\n",
    "            print(duplicate)"
   ]
  },
  {
   "cell_type": "code",
   "execution_count": null,
   "metadata": {},
   "outputs": [],
   "source": []
  }
 ],
 "metadata": {
  "kernelspec": {
   "display_name": "Python 3",
   "language": "python",
   "name": "python3"
  },
  "language_info": {
   "codemirror_mode": {
    "name": "ipython",
    "version": 3
   },
   "file_extension": ".py",
   "mimetype": "text/x-python",
   "name": "python",
   "nbconvert_exporter": "python",
   "pygments_lexer": "ipython3",
   "version": "3.6.7"
  }
 },
 "nbformat": 4,
 "nbformat_minor": 2
}
